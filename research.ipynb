{
 "cells": [
  {
   "cell_type": "code",
   "execution_count": 1,
   "id": "23c6df00-2d5e-4e2e-9b65-e9ffbe0c7e06",
   "metadata": {},
   "outputs": [
    {
     "name": "stdout",
     "output_type": "stream",
     "text": [
      "env: S3_REGION=\"eu-west-3\"\n",
      "env: S3_ENDPOINT=\"https://s3.wasabisys.com\"\n",
      "env: S3_ACCESS_KEY=\"F7JW2626ZUCZ4MS1QLYB\"\n",
      "env: S3_SECRET_KEY=\"etkVBIkwr9lsBesLb3EocVeYzTY06Ae0k6XQScCK\"\n",
      "Requirement already satisfied: boto3 in ./.venv/lib/python3.13/site-packages (1.37.28)\n",
      "Collecting botocore<1.38.0,>=1.37.28 (from boto3)\n",
      "  Using cached botocore-1.37.28-py3-none-any.whl.metadata (5.7 kB)\n",
      "Requirement already satisfied: jmespath<2.0.0,>=0.7.1 in ./.venv/lib/python3.13/site-packages (from boto3) (1.0.1)\n",
      "Requirement already satisfied: s3transfer<0.12.0,>=0.11.0 in ./.venv/lib/python3.13/site-packages (from boto3) (0.11.4)\n",
      "Requirement already satisfied: python-dateutil<3.0.0,>=2.1 in ./.venv/lib/python3.13/site-packages (from botocore<1.38.0,>=1.37.28->boto3) (2.9.0.post0)\n",
      "Requirement already satisfied: urllib3!=2.2.0,<3,>=1.25.4 in ./.venv/lib/python3.13/site-packages (from botocore<1.38.0,>=1.37.28->boto3) (2.3.0)\n",
      "Requirement already satisfied: six>=1.5 in ./.venv/lib/python3.13/site-packages (from python-dateutil<3.0.0,>=2.1->botocore<1.38.0,>=1.37.28->boto3) (1.17.0)\n",
      "Using cached botocore-1.37.28-py3-none-any.whl (13.5 MB)\n",
      "Installing collected packages: botocore\n",
      "  Attempting uninstall: botocore\n",
      "    Found existing installation: botocore 1.37.1\n",
      "    Uninstalling botocore-1.37.1:\n",
      "      Successfully uninstalled botocore-1.37.1\n",
      "\u001b[31mERROR: pip's dependency resolver does not currently take into account all the packages that are installed. This behaviour is the source of the following dependency conflicts.\n",
      "aiobotocore 2.21.1 requires botocore<1.37.2,>=1.37.0, but you have botocore 1.37.28 which is incompatible.\u001b[0m\u001b[31m\n",
      "\u001b[0mSuccessfully installed botocore-1.37.28\n",
      "Note: you may need to restart the kernel to use updated packages.\n",
      "Requirement already satisfied: pandas in ./.venv/lib/python3.13/site-packages (2.2.3)\n",
      "Requirement already satisfied: numpy>=1.26.0 in ./.venv/lib/python3.13/site-packages (from pandas) (2.2.4)\n",
      "Requirement already satisfied: python-dateutil>=2.8.2 in ./.venv/lib/python3.13/site-packages (from pandas) (2.9.0.post0)\n",
      "Requirement already satisfied: pytz>=2020.1 in ./.venv/lib/python3.13/site-packages (from pandas) (2025.2)\n",
      "Requirement already satisfied: tzdata>=2022.7 in ./.venv/lib/python3.13/site-packages (from pandas) (2025.2)\n",
      "Requirement already satisfied: six>=1.5 in ./.venv/lib/python3.13/site-packages (from python-dateutil>=2.8.2->pandas) (1.17.0)\n",
      "Note: you may need to restart the kernel to use updated packages.\n",
      "Requirement already satisfied: pyarrow in ./.venv/lib/python3.13/site-packages (19.0.1)\n",
      "Note: you may need to restart the kernel to use updated packages.\n",
      "Requirement already satisfied: s3fs in ./.venv/lib/python3.13/site-packages (2025.3.2)\n",
      "Requirement already satisfied: aiobotocore<3.0.0,>=2.5.4 in ./.venv/lib/python3.13/site-packages (from s3fs) (2.21.1)\n",
      "Requirement already satisfied: fsspec==2025.3.2.* in ./.venv/lib/python3.13/site-packages (from s3fs) (2025.3.2)\n",
      "Requirement already satisfied: aiohttp!=4.0.0a0,!=4.0.0a1 in ./.venv/lib/python3.13/site-packages (from s3fs) (3.11.16)\n",
      "Requirement already satisfied: aioitertools<1.0.0,>=0.5.1 in ./.venv/lib/python3.13/site-packages (from aiobotocore<3.0.0,>=2.5.4->s3fs) (0.12.0)\n",
      "Collecting botocore<1.37.2,>=1.37.0 (from aiobotocore<3.0.0,>=2.5.4->s3fs)\n",
      "  Using cached botocore-1.37.1-py3-none-any.whl.metadata (5.7 kB)\n",
      "Requirement already satisfied: python-dateutil<3.0.0,>=2.1 in ./.venv/lib/python3.13/site-packages (from aiobotocore<3.0.0,>=2.5.4->s3fs) (2.9.0.post0)\n",
      "Requirement already satisfied: jmespath<2.0.0,>=0.7.1 in ./.venv/lib/python3.13/site-packages (from aiobotocore<3.0.0,>=2.5.4->s3fs) (1.0.1)\n",
      "Requirement already satisfied: multidict<7.0.0,>=6.0.0 in ./.venv/lib/python3.13/site-packages (from aiobotocore<3.0.0,>=2.5.4->s3fs) (6.3.2)\n",
      "Requirement already satisfied: wrapt<2.0.0,>=1.10.10 in ./.venv/lib/python3.13/site-packages (from aiobotocore<3.0.0,>=2.5.4->s3fs) (1.17.2)\n",
      "Requirement already satisfied: aiohappyeyeballs>=2.3.0 in ./.venv/lib/python3.13/site-packages (from aiohttp!=4.0.0a0,!=4.0.0a1->s3fs) (2.6.1)\n",
      "Requirement already satisfied: aiosignal>=1.1.2 in ./.venv/lib/python3.13/site-packages (from aiohttp!=4.0.0a0,!=4.0.0a1->s3fs) (1.3.2)\n",
      "Requirement already satisfied: attrs>=17.3.0 in ./.venv/lib/python3.13/site-packages (from aiohttp!=4.0.0a0,!=4.0.0a1->s3fs) (25.3.0)\n",
      "Requirement already satisfied: frozenlist>=1.1.1 in ./.venv/lib/python3.13/site-packages (from aiohttp!=4.0.0a0,!=4.0.0a1->s3fs) (1.5.0)\n",
      "Requirement already satisfied: propcache>=0.2.0 in ./.venv/lib/python3.13/site-packages (from aiohttp!=4.0.0a0,!=4.0.0a1->s3fs) (0.3.1)\n",
      "Requirement already satisfied: yarl<2.0,>=1.17.0 in ./.venv/lib/python3.13/site-packages (from aiohttp!=4.0.0a0,!=4.0.0a1->s3fs) (1.19.0)\n",
      "Requirement already satisfied: urllib3!=2.2.0,<3,>=1.25.4 in ./.venv/lib/python3.13/site-packages (from botocore<1.37.2,>=1.37.0->aiobotocore<3.0.0,>=2.5.4->s3fs) (2.3.0)\n",
      "Requirement already satisfied: six>=1.5 in ./.venv/lib/python3.13/site-packages (from python-dateutil<3.0.0,>=2.1->aiobotocore<3.0.0,>=2.5.4->s3fs) (1.17.0)\n",
      "Requirement already satisfied: idna>=2.0 in ./.venv/lib/python3.13/site-packages (from yarl<2.0,>=1.17.0->aiohttp!=4.0.0a0,!=4.0.0a1->s3fs) (3.10)\n",
      "Using cached botocore-1.37.1-py3-none-any.whl (13.4 MB)\n",
      "Installing collected packages: botocore\n",
      "  Attempting uninstall: botocore\n",
      "    Found existing installation: botocore 1.37.28\n",
      "    Uninstalling botocore-1.37.28:\n",
      "      Successfully uninstalled botocore-1.37.28\n",
      "\u001b[31mERROR: pip's dependency resolver does not currently take into account all the packages that are installed. This behaviour is the source of the following dependency conflicts.\n",
      "boto3 1.37.28 requires botocore<1.38.0,>=1.37.28, but you have botocore 1.37.1 which is incompatible.\n",
      "s3transfer 0.11.4 requires botocore<2.0a.0,>=1.37.4, but you have botocore 1.37.1 which is incompatible.\u001b[0m\u001b[31m\n",
      "\u001b[0mSuccessfully installed botocore-1.37.1\n",
      "Note: you may need to restart the kernel to use updated packages.\n"
     ]
    }
   ],
   "source": [
    "%env S3_REGION=\"eu-west-3\"\n",
    "%env S3_ENDPOINT=\"https://s3.wasabisys.com\"\n",
    "%env S3_ACCESS_KEY=\"F7JW2626ZUCZ4MS1QLYB\"\n",
    "%env S3_SECRET_KEY=\"etkVBIkwr9lsBesLb3EocVeYzTY06Ae0k6XQScCK\"\n",
    "%pip install boto3\n",
    "%pip install pandas\n",
    "%pip install pyarrow\n",
    "%pip install s3fs"
   ]
  },
  {
   "cell_type": "code",
   "execution_count": 2,
   "id": "152f0561-d8ae-48b4-bad9-c57cf2166fae",
   "metadata": {},
   "outputs": [],
   "source": [
    "import pandas as pd\n",
    "import pyarrow as pa\n",
    "import json\n",
    "import os\n",
    "import boto3\n",
    "import io"
   ]
  },
  {
   "cell_type": "code",
   "execution_count": 3,
   "id": "8bbc0fd5-034d-422c-899c-004303bbe995",
   "metadata": {},
   "outputs": [],
   "source": [
    "session = boto3.Session(profile_name=\"wasabi\")\n",
    "credentials = session.get_credentials()\n",
    "aws_access_key_id = credentials.access_key\n",
    "aws_secret_access_key = credentials.secret_key"
   ]
  },
  {
   "cell_type": "code",
   "execution_count": 4,
   "id": "cf66c95d-df18-491a-9b4d-b1991548b1df",
   "metadata": {},
   "outputs": [],
   "source": [
    "s3 = boto3.client('s3',\n",
    "                  endpoint_url='https://s3.eu-west-3.wasabisys.com',\n",
    "                  aws_access_key_id=aws_access_key_id,\n",
    "                  aws_secret_access_key=aws_secret_access_key)\n"
   ]
  },
  {
   "cell_type": "code",
   "execution_count": 5,
   "id": "5f2dea62-34ab-45fd-a7f5-9b9ee00e55ab",
   "metadata": {},
   "outputs": [],
   "source": [
    "import s3fs\n",
    "s3f = s3fs.S3FileSystem(profile='wasabi', endpoint_url=\"https://s3.eu-west-3.wasabisys.com\")"
   ]
  },
  {
   "cell_type": "code",
   "execution_count": 8,
   "id": "31923c22-806a-4cfb-9c40-fbad1c479dad",
   "metadata": {},
   "outputs": [],
   "source": [
    "import pyarrow.parquet as pq\n",
    "\n",
    "df_statistics = pq.ParquetDataset('s3://sports-data/2023/03/01/basketball/statistics.parquet.gzip', filesystem=s3f).read_pandas().to_pandas()\n",
    "df_incidents = pq.ParquetDataset('s3://sports-data/2023/03/01/basketball/incidents.parquet.gzip', filesystem=s3f).read_pandas().to_pandas()\n",
    "df_graph = pq.ParquetDataset('s3://sports-data/2023/03/01/basketball/graph.parquet.gzip', filesystem=s3f).read_pandas().to_pandas()\n",
    "df_votes = pq.ParquetDataset('s3://sports-data/2023/03/01/basketball/votes.parquet.gzip', filesystem=s3f).read_pandas().to_pandas()"
   ]
  },
  {
   "cell_type": "code",
   "execution_count": 9,
   "id": "103b5ffd-bf63-49e7-9e63-8466e2214c5c",
   "metadata": {},
   "outputs": [
    {
     "name": "stdout",
     "output_type": "stream",
     "text": [
      "<class 'pandas.core.frame.DataFrame'>\n",
      "Index: 11695 entries, 0 to 3\n",
      "Data columns (total 43 columns):\n",
      " #   Column                        Non-Null Count  Dtype  \n",
      "---  ------                        --------------  -----  \n",
      " 0   text                          1013 non-null   object \n",
      " 1   homeScore                     11695 non-null  int64  \n",
      " 2   awayScore                     11695 non-null  int64  \n",
      " 3   isLive                        1013 non-null   object \n",
      " 4   period                        1011 non-null   object \n",
      " 5   time                          11695 non-null  int64  \n",
      " 6   addedTime                     1013 non-null   float64\n",
      " 7   timeSeconds                   11690 non-null  float64\n",
      " 8   reversedPeriodTime            11695 non-null  int64  \n",
      " 9   reversedPeriodTimeSeconds     11690 non-null  float64\n",
      " 10  periodTimeSeconds             11690 non-null  float64\n",
      " 11  incidentType                  11695 non-null  object \n",
      " 12  eventId                       11695 non-null  object \n",
      " 13  from                          10666 non-null  object \n",
      " 14  player                        0 non-null      float64\n",
      " 15  id                            10682 non-null  float64\n",
      " 16  isHome                        10682 non-null  object \n",
      " 17  incidentClass                 10682 non-null  object \n",
      " 18  player.name                   7778 non-null   object \n",
      " 19  player.firstName              2709 non-null   object \n",
      " 20  player.lastName               2641 non-null   object \n",
      " 21  player.slug                   7778 non-null   object \n",
      " 22  player.shortName              7778 non-null   object \n",
      " 23  player.position               7738 non-null   object \n",
      " 24  player.jerseyNumber           7708 non-null   object \n",
      " 25  player.height                 7684 non-null   float64\n",
      " 26  player.userCount              7778 non-null   float64\n",
      " 27  player.id                     7778 non-null   float64\n",
      " 28  player.marketValueCurrency    7778 non-null   object \n",
      " 29  player.dateOfBirthTimestamp   4607 non-null   float64\n",
      " 30  assist1                       0 non-null      float64\n",
      " 31  assist1.name                  1857 non-null   object \n",
      " 32  assist1.slug                  1857 non-null   object \n",
      " 33  assist1.shortName             1857 non-null   object \n",
      " 34  assist1.position              1847 non-null   object \n",
      " 35  assist1.jerseyNumber          1850 non-null   object \n",
      " 36  assist1.height                1840 non-null   float64\n",
      " 37  assist1.userCount             1857 non-null   float64\n",
      " 38  assist1.id                    1857 non-null   float64\n",
      " 39  assist1.marketValueCurrency   1857 non-null   object \n",
      " 40  assist1.dateOfBirthTimestamp  742 non-null    float64\n",
      " 41  assist1.firstName             120 non-null    object \n",
      " 42  assist1.lastName              101 non-null    object \n",
      "dtypes: float64(15), int64(4), object(24)\n",
      "memory usage: 3.9+ MB\n"
     ]
    }
   ],
   "source": [
    "df_incidents.info()"
   ]
  }
 ],
 "metadata": {
  "kernelspec": {
   "display_name": "Python 3 (ipykernel)",
   "language": "python",
   "name": "python3"
  },
  "language_info": {
   "codemirror_mode": {
    "name": "ipython",
    "version": 3
   },
   "file_extension": ".py",
   "mimetype": "text/x-python",
   "name": "python",
   "nbconvert_exporter": "python",
   "pygments_lexer": "ipython3",
   "version": "3.13.2"
  }
 },
 "nbformat": 4,
 "nbformat_minor": 5
}
